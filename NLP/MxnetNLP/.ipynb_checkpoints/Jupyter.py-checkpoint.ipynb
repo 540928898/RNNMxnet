{
 "cells": [
  {
   "cell_type": "code",
   "execution_count": null,
   "metadata": {},
   "outputs": [],
   "source": [
    "# %load RNNBucketing.py\n",
    "\n",
    "'''\n",
    "Author: Gupeng\n",
    "\n",
    "Time: 2019.2.21\n",
    "\n",
    "Func: RNN Bucketing Realize\n",
    "\n",
    "'''\n",
    "import mxnet as mx\n",
    "import numpy as np\n",
    "import argparse\n",
    "'''\n",
    "Creat model sym_len\n",
    "'''\n",
    "def sym_gen(seq_len):\n",
    "    data = mx.sym.Varibel('data')"
   ]
  },
  {
   "cell_type": "code",
   "execution_count": null,
   "metadata": {},
   "outputs": [],
   "source": []
  }
 ],
 "metadata": {
  "kernelspec": {
   "display_name": "Python 2",
   "language": "python",
   "name": "python2"
  },
  "language_info": {
   "codemirror_mode": {
    "name": "ipython",
    "version": 2
   },
   "file_extension": ".py",
   "mimetype": "text/x-python",
   "name": "python",
   "nbconvert_exporter": "python",
   "pygments_lexer": "ipython2",
   "version": "2.7.15"
  }
 },
 "nbformat": 4,
 "nbformat_minor": 2
}
